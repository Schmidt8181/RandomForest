{
 "cells": [
  {
   "cell_type": "code",
   "execution_count": 1,
   "metadata": {
    "collapsed": true
   },
   "outputs": [],
   "source": [
    "import pandas as pd\n",
    "import numpy as np\n",
    "import matplotlib.pyplot as plt\n",
    "%matplotlib inline"
   ]
  },
  {
   "cell_type": "code",
   "execution_count": 2,
   "metadata": {},
   "outputs": [
    {
     "name": "stderr",
     "output_type": "stream",
     "text": [
      "/anaconda/lib/python3.6/site-packages/IPython/core/interactiveshell.py:2717: DtypeWarning: Columns (0,19,55) have mixed types. Specify dtype option on import or set low_memory=False.\n",
      "  interactivity=interactivity, compiler=compiler, result=result)\n"
     ]
    }
   ],
   "source": [
    "# Replace the path with the correct path for your data.\n",
    "y2015 = pd.read_csv(\n",
    "    '/Users/Beba/Documents/JupyterNotebooks/LoanStats3d.csv',\n",
    "    skipinitialspace=True,\n",
    "    header=1\n",
    ")\n",
    "\n",
    "# Note the warning about dtypes."
   ]
  },
  {
   "cell_type": "code",
   "execution_count": 3,
   "metadata": {
    "collapsed": true
   },
   "outputs": [],
   "source": [
    "y2015['id'] = pd.to_numeric(y2015['id'], errors='coerce')\n",
    "y2015['int_rate'] = pd.to_numeric(y2015['int_rate'].str.strip('%'), errors='coerce')\n",
    "\n",
    "y2015.drop(['url', 'emp_title', 'zip_code', 'earliest_cr_line', 'revol_util',\n",
    "            'sub_grade', 'addr_state', 'desc'], 1, inplace=True)"
   ]
  },
  {
   "cell_type": "code",
   "execution_count": 4,
   "metadata": {
    "collapsed": true
   },
   "outputs": [],
   "source": [
    "y2015 = y2015[:-2]"
   ]
  },
  {
   "cell_type": "code",
   "execution_count": 5,
   "metadata": {},
   "outputs": [
    {
     "data": {
      "text/plain": [
       "array([ 0.98523021,  0.98636968,  0.98587034,  0.98568036,  0.98522916,\n",
       "        0.98506258,  0.9853472 ,  0.98489598,  0.98406479,  0.98361318])"
      ]
     },
     "execution_count": 5,
     "metadata": {},
     "output_type": "execute_result"
    }
   ],
   "source": [
    "from sklearn import ensemble\n",
    "from sklearn.model_selection import cross_val_score\n",
    "\n",
    "rfc = ensemble.RandomForestClassifier()\n",
    "X = y2015.drop('loan_status', 1)\n",
    "Y = y2015['loan_status']\n",
    "X = pd.get_dummies(X)\n",
    "X = X.dropna(axis=1)\n",
    "\n",
    "cross_val_score(rfc, X, Y, cv=10)"
   ]
  },
  {
   "cell_type": "code",
   "execution_count": 33,
   "metadata": {},
   "outputs": [
    {
     "name": "stdout",
     "output_type": "stream",
     "text": [
      "['id' 'member_id' 'loan_amnt' 'funded_amnt' 'funded_amnt_inv' 'term'\n",
      " 'int_rate' 'installment' 'grade' 'emp_length' 'home_ownership'\n",
      " 'annual_inc' 'verification_status' 'issue_d' 'loan_status' 'pymnt_plan'\n",
      " 'purpose' 'title' 'dti' 'delinq_2yrs' 'inq_last_6mths'\n",
      " 'mths_since_last_delinq' 'mths_since_last_record' 'open_acc' 'pub_rec'\n",
      " 'revol_bal' 'total_acc' 'initial_list_status' 'out_prncp' 'out_prncp_inv'\n",
      " 'total_pymnt' 'total_pymnt_inv' 'total_rec_prncp' 'total_rec_int'\n",
      " 'total_rec_late_fee' 'recoveries' 'collection_recovery_fee' 'last_pymnt_d'\n",
      " 'last_pymnt_amnt' 'next_pymnt_d' 'last_credit_pull_d'\n",
      " 'collections_12_mths_ex_med' 'mths_since_last_major_derog' 'policy_code'\n",
      " 'application_type' 'annual_inc_joint' 'dti_joint'\n",
      " 'verification_status_joint' 'acc_now_delinq' 'tot_coll_amt' 'tot_cur_bal'\n",
      " 'open_acc_6m' 'open_act_il' 'open_il_12m' 'open_il_24m'\n",
      " 'mths_since_rcnt_il' 'total_bal_il' 'il_util' 'open_rv_12m' 'open_rv_24m'\n",
      " 'max_bal_bc' 'all_util' 'total_rev_hi_lim' 'inq_fi' 'total_cu_tl'\n",
      " 'inq_last_12m' 'acc_open_past_24mths' 'avg_cur_bal' 'bc_open_to_buy'\n",
      " 'bc_util' 'chargeoff_within_12_mths' 'delinq_amnt' 'mo_sin_old_il_acct'\n",
      " 'mo_sin_old_rev_tl_op' 'mo_sin_rcnt_rev_tl_op' 'mo_sin_rcnt_tl' 'mort_acc'\n",
      " 'mths_since_recent_bc' 'mths_since_recent_bc_dlq' 'mths_since_recent_inq'\n",
      " 'mths_since_recent_revol_delinq' 'num_accts_ever_120_pd' 'num_actv_bc_tl'\n",
      " 'num_actv_rev_tl' 'num_bc_sats' 'num_bc_tl' 'num_il_tl' 'num_op_rev_tl'\n",
      " 'num_rev_accts' 'num_rev_tl_bal_gt_0' 'num_sats' 'num_tl_120dpd_2m'\n",
      " 'num_tl_30dpd' 'num_tl_90g_dpd_24m' 'num_tl_op_past_12m' 'pct_tl_nvr_dlq'\n",
      " 'percent_bc_gt_75' 'pub_rec_bankruptcies' 'tax_liens' 'tot_hi_cred_lim'\n",
      " 'total_bal_ex_mort' 'total_bc_limit' 'total_il_high_credit_limit'\n",
      " 'revol_bal_joint' 'sec_app_earliest_cr_line' 'sec_app_inq_last_6mths'\n",
      " 'sec_app_mort_acc' 'sec_app_open_acc' 'sec_app_revol_util'\n",
      " 'sec_app_open_act_il' 'sec_app_num_rev_accts'\n",
      " 'sec_app_chargeoff_within_12_mths' 'sec_app_collections_12_mths_ex_med'\n",
      " 'sec_app_mths_since_last_major_derog' 'hardship_flag' 'hardship_type'\n",
      " 'hardship_reason' 'hardship_status' 'deferral_term' 'hardship_amount'\n",
      " 'hardship_start_date' 'hardship_end_date' 'payment_plan_start_date'\n",
      " 'hardship_length' 'hardship_dpd' 'hardship_loan_status'\n",
      " 'orig_projected_additional_accrued_interest'\n",
      " 'hardship_payoff_balance_amount' 'hardship_last_payment_amount'\n",
      " 'disbursement_method' 'debt_settlement_flag' 'debt_settlement_flag_date'\n",
      " 'settlement_status' 'settlement_date' 'settlement_amount'\n",
      " 'settlement_percentage' 'settlement_term']\n"
     ]
    }
   ],
   "source": [
    "print(y2015.columns.values)"
   ]
  },
  {
   "cell_type": "code",
   "execution_count": 23,
   "metadata": {
    "collapsed": true
   },
   "outputs": [],
   "source": [
    "from sklearn.preprocessing import StandardScaler\n",
    "from sklearn.decomposition import PCA \n",
    "import seaborn as sns"
   ]
  },
  {
   "cell_type": "code",
   "execution_count": 39,
   "metadata": {
    "collapsed": true
   },
   "outputs": [],
   "source": [
    "y2015_pca = y2015.filter(['loan_amnt',\n",
    "                          'funded_amnt',\n",
    "                          'funded_amnt_inv',\n",
    "                          'term',\n",
    "                          'int_rate',\n",
    "                          'installment',\n",
    "                          'grade',\n",
    "                          'emp_length',\n",
    "                          'home_ownership',\n",
    "                          'annual_inc',\n",
    "                          'verification_status',\n",
    "                          'issue_d',\n",
    "                          'pymnt_plan',\n",
    "                          'purpose',\n",
    "                          'title',\n",
    "                          'dti',\n",
    "                          'delinq_2yrs',\n",
    "                          'inq_last_6mths',\n",
    "                          'mths_since_last_delinq',\n",
    "                          'mths_since_last_record',\n",
    "                          'open_acc',\n",
    "                          'pub_rec',\n",
    "                          'revol_bal',\n",
    "                          'total_acc',\n",
    "                          'initial_list_status',\n",
    "                          'out_prncp',\n",
    "                          'out_prncp_inv',\n",
    "                          'total_pymnt',\n",
    "                          'total_pymnt_inv',\n",
    "                          'total_rec_prncp',\n",
    "                          'total_rec_int',\n",
    "                          'total_rec_late_fee',\n",
    "                          'recoveries',\n",
    "                          'collection_recovery_fee',\n",
    "                          'last_pymnt_d',\n",
    "                          'last_pymnt_amnt',\n",
    "                          'next_pymnt_d',\n",
    "                          'last_credit_pull_d',\n",
    "                          'collections_12_mths_ex_med',\n",
    "                          'mths_since_last_major_derog',\n",
    "                          'policy_code',\n",
    "                          'application_type',\n",
    "                          'annual_inc_joint',\n",
    "                          'dti_joint',\n",
    "                          'verification_status_joint',\n",
    "                          'acc_now_delinq',\n",
    "                          'tot_coll_amt',\n",
    "                          'tot_cur_bal',\n",
    "                          'open_acc_6m',\n",
    "                          'open_act_il'])"
   ]
  },
  {
   "cell_type": "code",
   "execution_count": 40,
   "metadata": {},
   "outputs": [
    {
     "data": {
      "text/plain": [
       "array([ 0.98506399,  0.98546733,  0.98525291,  0.98639278,  0.98513417,\n",
       "        0.98454012,  0.98575093,  0.98363731,  0.9854422 ,  0.9842544 ])"
      ]
     },
     "execution_count": 40,
     "metadata": {},
     "output_type": "execute_result"
    }
   ],
   "source": [
    "X_dummies = pd.get_dummies(y2015_pca)\n",
    "X_clean = X_dummies.dropna(axis=1)\n",
    "\n",
    "cross_val_score(rfc, X_clean, Y, cv=10)"
   ]
  },
  {
   "cell_type": "code",
   "execution_count": 41,
   "metadata": {
    "collapsed": true
   },
   "outputs": [],
   "source": [
    "y2015_pca2 = y2015.filter(['loan_amnt',\n",
    "                          'term',\n",
    "                          'int_rate',\n",
    "                          'installment',\n",
    "                          'grade',\n",
    "                          'emp_length',\n",
    "                          'home_ownership',\n",
    "                          'verification_status',\n",
    "                          'pymnt_plan',\n",
    "                          'purpose',\n",
    "                          'title',\n",
    "                          'dti',\n",
    "                          'delinq_2yrs',\n",
    "                          'inq_last_6mths',\n",
    "                          'recoveries',\n",
    "                          'collection_recovery_fee',\n",
    "                          'last_credit_pull_d',\n",
    "                          'collections_12_mths_ex_med',\n",
    "                          'mths_since_last_major_derog',\n",
    "                          'open_acc_6m',\n",
    "                          'open_act_il'])"
   ]
  },
  {
   "cell_type": "code",
   "execution_count": 42,
   "metadata": {},
   "outputs": [
    {
     "data": {
      "text/plain": [
       "array([ 0.70925842,  0.70578457,  0.7039658 ,  0.70938019,  0.70966516,\n",
       "        0.7109644 ,  0.69725468,  0.70183813,  0.70369051,  0.69133398])"
      ]
     },
     "execution_count": 42,
     "metadata": {},
     "output_type": "execute_result"
    }
   ],
   "source": [
    "X_dummies2 = pd.get_dummies(y2015_pca2)\n",
    "X_clean2 = X_dummies2.dropna(axis=1)\n",
    "\n",
    "cross_val_score(rfc, X_clean2, Y, cv=10)"
   ]
  },
  {
   "cell_type": "code",
   "execution_count": 43,
   "metadata": {},
   "outputs": [
    {
     "data": {
      "text/plain": [
       "array([ 0.97585069,  0.98435125,  0.98406554,  0.98425552,  0.98356685,\n",
       "        0.98337648,  0.98306735,  0.98249739,  0.98396979,  0.98482438])"
      ]
     },
     "execution_count": 43,
     "metadata": {},
     "output_type": "execute_result"
    }
   ],
   "source": [
    "y2015_pca3 = y2015.filter(['loan_amnt',\n",
    "                          'funded_amnt',\n",
    "                          'term',\n",
    "                          'int_rate',\n",
    "                          'out_prncp',\n",
    "                          'total_pymnt',\n",
    "                          'total_rec_prncp',\n",
    "                          'total_rec_late_fee',\n",
    "                          'recoveries',\n",
    "                          'collection_recovery_fee',\n",
    "                          'last_pymnt_d',\n",
    "                          'last_pymnt_amnt'])\n",
    "\n",
    "X_dummies3 = pd.get_dummies(y2015_pca3)\n",
    "X_clean3 = X_dummies3.dropna(axis=1)\n",
    "\n",
    "cross_val_score(rfc, X_clean3, Y, cv=10)"
   ]
  },
  {
   "cell_type": "code",
   "execution_count": 44,
   "metadata": {},
   "outputs": [
    {
     "data": {
      "text/plain": [
       "array([ 0.85261083,  0.94251045,  0.92348611,  0.94238898,  0.9368796 ,\n",
       "        0.93569071,  0.92051392,  0.92362496,  0.93559419,  0.92160448])"
      ]
     },
     "execution_count": 44,
     "metadata": {},
     "output_type": "execute_result"
    }
   ],
   "source": [
    "y2015_pca4 = y2015.filter(['loan_amnt',\n",
    "                          'term',\n",
    "                          'int_rate',\n",
    "                          'total_rec_prncp',\n",
    "                          'total_rec_late_fee',\n",
    "                          'recoveries',\n",
    "                          'collection_recovery_fee',])\n",
    "\n",
    "X_dummies4 = pd.get_dummies(y2015_pca4)\n",
    "X_clean4 = X_dummies4.dropna(axis=1)\n",
    "\n",
    "cross_val_score(rfc, X_clean4, Y, cv=10)"
   ]
  },
  {
   "cell_type": "markdown",
   "metadata": {
    "collapsed": true
   },
   "source": []
  }
 ],
 "metadata": {
  "kernelspec": {
   "display_name": "Python 3",
   "language": "python",
   "name": "python3"
  },
  "language_info": {
   "codemirror_mode": {
    "name": "ipython",
    "version": 3
   },
   "file_extension": ".py",
   "mimetype": "text/x-python",
   "name": "python",
   "nbconvert_exporter": "python",
   "pygments_lexer": "ipython3",
   "version": "3.6.1"
  }
 },
 "nbformat": 4,
 "nbformat_minor": 2
}
